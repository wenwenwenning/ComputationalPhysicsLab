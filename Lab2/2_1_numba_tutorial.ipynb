{
 "cells": [
  {
   "cell_type": "markdown",
   "metadata": {},
   "source": [
    "# `Numba` Tutorial\n",
    "\n",
    "In this tutorial, we will learn how to use numba to speed up python loops.\n",
    "\n",
    "To intall conda, type `conda install numba`."
   ]
  },
  {
   "cell_type": "code",
   "execution_count": null,
   "metadata": {},
   "outputs": [],
   "source": [
    "import numpy as np\n",
    "import numba as na\n",
    "from numba import jit, njit, prange, set_num_threads"
   ]
  },
  {
   "cell_type": "markdown",
   "metadata": {},
   "source": [
    "### 1. The Numba's JIT decorators, `@jit`.\n",
    "\n",
    "First, let's consider a nested loop in python.\\\n",
    "\n",
    "Nested loops are very common in any computational physics problems (i.e. the acceleration calculations in the n-body problem)."
   ]
  },
  {
   "cell_type": "code",
   "execution_count": null,
   "metadata": {},
   "outputs": [],
   "source": [
    "def native_python(N):\n",
    "    value = 0\n",
    "    for _ in range(N):\n",
    "        for _ in range(N):\n",
    "            # some physical calculations, such as acceleration. \n",
    "            value += np.tanh(123)\n",
    "    return value"
   ]
  },
  {
   "cell_type": "code",
   "execution_count": null,
   "metadata": {},
   "outputs": [],
   "source": [
    "test_size = 3000"
   ]
  },
  {
   "cell_type": "code",
   "execution_count": null,
   "metadata": {},
   "outputs": [],
   "source": [
    "%timeit ans = native_python(N=test_size)"
   ]
  },
  {
   "cell_type": "code",
   "execution_count": null,
   "metadata": {},
   "outputs": [],
   "source": [
    "ans1 = native_python(N=test_size)\n",
    "print(ans1)"
   ]
  },
  {
   "cell_type": "markdown",
   "metadata": {},
   "source": [
    "the above function takes ~6.43 s with `N=3000` (measured by Kuo-Chuan's desktop computer).\n",
    "\n",
    "In the above example, the calculation is simply adding np.tanh(123) N times. This is equivalent to"
   ]
  },
  {
   "cell_type": "code",
   "execution_count": null,
   "metadata": {},
   "outputs": [],
   "source": [
    "ans2 = np.sum(np.tanh(123)*np.ones(test_size*test_size))"
   ]
  },
  {
   "cell_type": "code",
   "execution_count": null,
   "metadata": {},
   "outputs": [],
   "source": [
    "print(ans1==ans2)"
   ]
  },
  {
   "cell_type": "code",
   "execution_count": null,
   "metadata": {},
   "outputs": [],
   "source": [
    "%timeit np.sum(np.tanh(123)*np.ones(test_size**2))"
   ]
  },
  {
   "cell_type": "markdown",
   "metadata": {},
   "source": [
    "the same calculation takes only 19.5 ms with `np.sum()` (x330 speedup).\n",
    "\n",
    "In eariler lecutres, we have learned that we should use `numpy` and `scipy` to avoid using loops in native python.\\\n",
    "However, it is possible that the calculations inside the for loops cannot find counter part calculations in `numpy` and `scipy` (or not straightforward). \n",
    "\n",
    "Numba's Just-in-time (JIT) decoraators is one good solution.\n"
   ]
  },
  {
   "cell_type": "code",
   "execution_count": null,
   "metadata": {},
   "outputs": [],
   "source": [
    "@jit(nopython=True)\n",
    "def numba_jit(N):\n",
    "    value = 0\n",
    "    for _ in range(N):\n",
    "        for _ in range(N):\n",
    "            value += np.tanh(123)\n",
    "    return value"
   ]
  },
  {
   "cell_type": "code",
   "execution_count": null,
   "metadata": {},
   "outputs": [],
   "source": [
    "ans3 = numba_jit(N=test_size)\n",
    "print(ans3)\n",
    "print(ans1==ans3)"
   ]
  },
  {
   "cell_type": "code",
   "execution_count": null,
   "metadata": {},
   "outputs": [],
   "source": [
    "%timeit ans = numba_jit(N=test_size)"
   ]
  },
  {
   "cell_type": "markdown",
   "metadata": {},
   "source": [
    "With `jit`, it takes 6.47 ms now by just adding one line of code!\n",
    "Note that the performance could be still a bottle neck when `test_size` is big."
   ]
  },
  {
   "cell_type": "code",
   "execution_count": null,
   "metadata": {},
   "outputs": [],
   "source": [
    "%timeit ans = numba_jit(N=(test_size*10))"
   ]
  },
  {
   "cell_type": "markdown",
   "metadata": {},
   "source": [
    "The calculation times increased with N^2.\n",
    "\n",
    "We could actually further improve it with `njit` and `prange`."
   ]
  },
  {
   "cell_type": "code",
   "execution_count": null,
   "metadata": {},
   "outputs": [],
   "source": [
    "@njit(parallel=True)\n",
    "def numba_njit_parallel(N):\n",
    "    value = 0\n",
    "    for i in prange(N):\n",
    "        for j in prange(N):\n",
    "            value += np.tanh(123)\n",
    "    return value"
   ]
  },
  {
   "cell_type": "markdown",
   "metadata": {},
   "source": [
    "note that in the above example, we could not use `for _ in prange(N)`, becasue `_` is not recognitzed by numba in parallel computing. "
   ]
  },
  {
   "cell_type": "code",
   "execution_count": null,
   "metadata": {},
   "outputs": [],
   "source": [
    "ans4 = numba_njit_parallel(N=test_size)\n",
    "print(ans1==ans4)"
   ]
  },
  {
   "cell_type": "code",
   "execution_count": null,
   "metadata": {},
   "outputs": [],
   "source": [
    "set_num_threads(4)"
   ]
  },
  {
   "cell_type": "code",
   "execution_count": null,
   "metadata": {},
   "outputs": [],
   "source": [
    "%timeit ans = numba_njit_parallel(N=(test_size*10))"
   ]
  },
  {
   "cell_type": "markdown",
   "metadata": {},
   "source": [
    "It took 161 ms with 4 threads (x4 speedup)."
   ]
  },
  {
   "cell_type": "markdown",
   "metadata": {},
   "source": [
    "# Exercise\n",
    "\n",
    "## Exercise 1: Use numba `jit` and `njit` to speedup the Pi calculation. \n",
    "\n",
    "Compare your solutions with `numpy`."
   ]
  },
  {
   "cell_type": "code",
   "execution_count": null,
   "metadata": {},
   "outputs": [],
   "source": []
  },
  {
   "cell_type": "markdown",
   "metadata": {},
   "source": [
    "## Exercise 2: Speedup your N-body solver.\n",
    "\n",
    "Now, move back to `2_nbody.ipynb`. Let's speed up our `nbody.py` solver with numba."
   ]
  }
 ],
 "metadata": {
  "kernelspec": {
   "display_name": "Python 3.10.8 ('comphyslab')",
   "language": "python",
   "name": "python3"
  },
  "language_info": {
   "codemirror_mode": {
    "name": "ipython",
    "version": 3
   },
   "file_extension": ".py",
   "mimetype": "text/x-python",
   "name": "python",
   "nbconvert_exporter": "python",
   "pygments_lexer": "ipython3",
   "version": "3.10.8"
  },
  "orig_nbformat": 4,
  "vscode": {
   "interpreter": {
    "hash": "ae0c796e017b4753d6b75f87586457b3ddde062688ecea1eb8843520cbf2ae9e"
   }
  }
 },
 "nbformat": 4,
 "nbformat_minor": 2
}
