{
 "cells": [
  {
   "cell_type": "code",
   "execution_count": null,
   "metadata": {},
   "outputs": [],
   "source": [
    "import numpy as np\n",
    "import glob\n",
    "import matplotlib.pyplot as plt\n",
    "from mpl_toolkits.mplot3d import Axes3D\n",
    "import matplotlib.animation as animation\n",
    "from numba import set_num_threads\n",
    "from nbody import Particles, NbodySimulation"
   ]
  },
  {
   "cell_type": "markdown",
   "metadata": {},
   "source": [
    "# Merger Simulation\n",
    "\n",
    "In this notebook, we simply combine the N-partciles simulation and the Binary simulation together.\\\n",
    "We could use N/2 particles to represent one cluster and another N/2 particles to represent another cluster.\\\n",
    "Assuming some initial conditions, there two cluster will eventually merge. "
   ]
  },
  {
   "cell_type": "code",
   "execution_count": null,
   "metadata": {},
   "outputs": [],
   "source": [
    "set_num_threads(12)"
   ]
  },
  {
   "cell_type": "code",
   "execution_count": null,
   "metadata": {},
   "outputs": [],
   "source": [
    "problem_name = \"merger_demo\""
   ]
  },
  {
   "cell_type": "markdown",
   "metadata": {},
   "source": [
    "### Initial conditions.\n",
    "\n",
    "Create two functions: \n",
    "\n",
    "1. `initialParticleCloud()`, initial a cloud of particles with a normal distribution.\n",
    "2. `initialBinaryClusters()`, use the first function to initialize two clouds. Add individual cluster motions.\n",
    "\n",
    "Initial conditions:\n",
    "Assume two clusters with `M1=15` and `M2=20` located on the x-axis with `X1=5` and `X2=-5`, two clusters are moving in their center of mass coordinates with velocities, V1=[-0.5,0.75,0], V2=[0.5,-0.75,0], and accelerations `A1=0` and`A2=0`. \n"
   ]
  },
  {
   "cell_type": "code",
   "execution_count": null,
   "metadata": {},
   "outputs": [],
   "source": [
    "def initialParticleCloud(N, totalMass, cmPos, cmVel, cmAcc, tag):\n",
    "        \"\"\"\n",
    "        Initial particles\n",
    "\n",
    "        \"\"\"\n",
    "        #TODO\n",
    "        return "
   ]
  },
  {
   "cell_type": "code",
   "execution_count": null,
   "metadata": {},
   "outputs": [],
   "source": [
    "def initialBinaryClusters(N):\n",
    "    #TODO\n",
    "    return particles"
   ]
  },
  {
   "cell_type": "code",
   "execution_count": null,
   "metadata": {},
   "outputs": [],
   "source": [
    "# initial and run your simulation here\n",
    "\n",
    "print(\"Done\")"
   ]
  },
  {
   "cell_type": "markdown",
   "metadata": {},
   "source": [
    "## Visualization"
   ]
  },
  {
   "cell_type": "code",
   "execution_count": null,
   "metadata": {},
   "outputs": [],
   "source": [
    "fns = 'data_'+problem_name+'/'+problem_name+\"_[0-9][0-9][0-9][0-9][0-9].txt\"\n",
    "fns = glob.glob(fns)\n",
    "fns.sort()"
   ]
  },
  {
   "cell_type": "code",
   "execution_count": null,
   "metadata": {},
   "outputs": [],
   "source": [
    "m,t,x,y,z,vx,vy,vz,ax,ay,az = np.loadtxt(fns[2])\n",
    "print(len(t)/2)"
   ]
  },
  {
   "cell_type": "markdown",
   "metadata": {},
   "source": [
    "## Visualization"
   ]
  },
  {
   "cell_type": "code",
   "execution_count": null,
   "metadata": {},
   "outputs": [],
   "source": [
    "plt.style.use('dark_background')"
   ]
  },
  {
   "cell_type": "code",
   "execution_count": null,
   "metadata": {},
   "outputs": [],
   "source": [
    "scale = 2 \n",
    "\n",
    "c1 = 'b'\n",
    "c2 = 'r'\n",
    "\n",
    "fig, ax =plt.subplots()\n",
    "fig.set_linewidth(5)\n",
    "fig.set_size_inches(10.5, 10.5, forward=True)\n",
    "fig.set_dpi(72)\n",
    "line, = ax.plot([],[],'.',color='w')\n",
    "\n",
    "\n",
    "def init():\n",
    "    plt.xticks(fontsize=14)\n",
    "    plt.yticks(fontsize=14)\n",
    "    ax.set_xlim(-5*scale,5*scale)\n",
    "    ax.set_ylim(-5*scale,5*scale)\n",
    "    ax.set_aspect('equal')\n",
    "    ax.set_xlabel('X [code unit]',fontsize=18)\n",
    "    ax.set_ylabel('Y [code unit]',fontsize=18)\n",
    "    return line,\n",
    "\n",
    "def updateParticles(frame):\n",
    "    fn = fns[frame]\n",
    "    m,t,x,y,z,vx,vy,vz,ax,ay,az = np.loadtxt(fn)\n",
    "    c1 = ['b']*int(len(t)/2)\n",
    "    c2 = ['w']*int(len(t)/2)\n",
    "    colors = c1+c2\n",
    "    line.set_data(x,y)\n",
    "    #line.set_color(colors)\n",
    "    plt.title(\"Frame =\"+str(frame),size=18)\n",
    "    return line,\n",
    "\n",
    "ani = animation.FuncAnimation(fig, updateParticles, frames=len(fns),init_func=init, blit=True)\n",
    "ani.save('movie_'+problem_name+'_slice.mp4',fps=20)"
   ]
  },
  {
   "cell_type": "code",
   "execution_count": null,
   "metadata": {},
   "outputs": [],
   "source": [
    "scale = 5 \n",
    "\n",
    "\n",
    "fig = plt.figure(figsize=(10,10))\n",
    "ax = fig.add_subplot(111,projection='3d')\n",
    "graph = ax.scatter([],[],[],s=1,color='w')\n",
    "\n",
    "def init():\n",
    "    ax.set_xlim(-1*scale,1*scale)\n",
    "    ax.set_ylim(-1*scale,1*scale)\n",
    "    ax.set_zlim(-1*scale,1*scale)\n",
    "    ax.view_init(-100, 60)\n",
    "    plt.axis('off')\n",
    "    ax.grid(False)\n",
    "    ax.set_xticks([])\n",
    "    ax.set_yticks([])\n",
    "    ax.set_zticks([])\n",
    "    return line,\n",
    "\n",
    "def updateParticles(frame):\n",
    "    fn = fns[frame]\n",
    "    m,t,x,y,z,vx,vy,vz,ax,ay,az = np.loadtxt(fn)\n",
    "    c1 = ['b']*int(len(t)/2)\n",
    "    c2 = ['w']*int(len(t)/2)\n",
    "    colors = c1+c2\n",
    "    graph._offsets3d = (x,y,z)\n",
    "    graph.set_color(colors)\n",
    "    plt.title(\"Frame =\"+str(frame))\n",
    "    return line, \n",
    "\n",
    "ani = animation.FuncAnimation(fig, updateParticles, frames=len(fns),init_func=init, blit=True)\n",
    "ani.save('movie_'+problem_name+'_3d.mp4',fps=30)"
   ]
  },
  {
   "cell_type": "code",
   "execution_count": null,
   "metadata": {},
   "outputs": [],
   "source": [
    "m,t,x,y,z,vx,vy,vz,ax,ay,az = np.loadtxt(fns[50])\n",
    "c1 = ['b']*int(len(t)/2)\n",
    "c2 = ['w']*int(len(t)/2)\n",
    "colors = c1+c2\n",
    "\n",
    "fig = plt.figure(figsize=(10,10))\n",
    "ax = fig.add_subplot(111,projection='3d')\n",
    "ax.view_init(-100, 60)\n",
    "ax.set_xlim(-3*scale,3*scale)\n",
    "ax.set_ylim(-3*scale,3*scale)\n",
    "ax.set_zlim(-3*scale,3*scale)\n",
    "plt.axis('off')\n",
    "ax.grid(False)\n",
    "ax.set_xticks([])\n",
    "ax.set_yticks([])\n",
    "ax.set_zticks([])\n",
    "graph = ax.scatter(x,y,z,s=1,color=colors)"
   ]
  },
  {
   "cell_type": "code",
   "execution_count": null,
   "metadata": {},
   "outputs": [],
   "source": []
  }
 ],
 "metadata": {
  "kernelspec": {
   "display_name": "Python 3.10.8 ('comphyslab')",
   "language": "python",
   "name": "python3"
  },
  "language_info": {
   "codemirror_mode": {
    "name": "ipython",
    "version": 3
   },
   "file_extension": ".py",
   "mimetype": "text/x-python",
   "name": "python",
   "nbconvert_exporter": "python",
   "pygments_lexer": "ipython3",
   "version": "3.10.8"
  },
  "orig_nbformat": 4,
  "vscode": {
   "interpreter": {
    "hash": "ae0c796e017b4753d6b75f87586457b3ddde062688ecea1eb8843520cbf2ae9e"
   }
  }
 },
 "nbformat": 4,
 "nbformat_minor": 2
}
