{
 "cells": [
  {
   "cell_type": "code",
   "execution_count": 2,
   "metadata": {},
   "outputs": [],
   "source": [
    "import numpy as np\n",
    "import matplotlib.pyplot as plt\n",
    "import matplotlib.animation as animation\n",
    "from nbody import Particles, NbodySimulation"
   ]
  },
  {
   "cell_type": "markdown",
   "metadata": {},
   "source": [
    "# Sun-Earth System\n",
    "\n",
    "In this notebook, we will test our Solar System (Sun + Earth) simulation.\\\n",
    "For convenice, that's define the `problem_name` here for handling data IO."
   ]
  },
  {
   "cell_type": "code",
   "execution_count": 3,
   "metadata": {},
   "outputs": [],
   "source": [
    "problem_name = \"solar_earth\""
   ]
  },
  {
   "cell_type": "markdown",
   "metadata": {},
   "source": [
    "Prepare physical constants"
   ]
  },
  {
   "cell_type": "code",
   "execution_count": 1,
   "metadata": {},
   "outputs": [],
   "source": [
    "msun   = 1.989e33   # gram\n",
    "mearth = 5.97219e27 # gram\n",
    "au     = 1.496e13   # cm\n",
    "day    = 86400      # sec\n",
    "year   = 365*day    # sec\n",
    "G      = 6.67e-8   # cgs"
   ]
  },
  {
   "cell_type": "markdown",
   "metadata": {},
   "source": [
    "Re-implment the particle initialze condition of the Sun+Earth system. "
   ]
  },
  {
   "cell_type": "code",
   "execution_count": 4,
   "metadata": {},
   "outputs": [],
   "source": [
    "def initialSolarSystem(particles:Particles):\n",
    "    \"\"\"\n",
    "    initial Sun-Earth system\n",
    "    \"\"\"\n",
    "    # TODO:\n",
    "    return particles"
   ]
  },
  {
   "cell_type": "markdown",
   "metadata": {},
   "source": [
    "Once we initialize the particles, we could run our simulation by"
   ]
  },
  {
   "cell_type": "code",
   "execution_count": null,
   "metadata": {},
   "outputs": [],
   "source": [
    "particles = Particles(N=2)\n",
    "particles = initialSolarSystem(particles)\n",
    "sim = NbodySimulation(particles)\n",
    "sim.setup(G=G,method=\"RK4\",io_freq=20,io_title=problem_name,io_screen=False,visualized=False)\n",
    "sim.evolve(dt=0.1*day,tmax=5*year)"
   ]
  },
  {
   "cell_type": "markdown",
   "metadata": {},
   "source": [
    "# Load data and Visualization\n",
    "\n",
    "note: `conda install -c conda-forge ffmpeg` might be necessary"
   ]
  },
  {
   "cell_type": "code",
   "execution_count": null,
   "metadata": {},
   "outputs": [],
   "source": [
    "import glob"
   ]
  },
  {
   "cell_type": "code",
   "execution_count": null,
   "metadata": {},
   "outputs": [],
   "source": [
    "fns = \"data_\"+problem_name+\"/\"+problem_name+\"_[0-9][0-9][0-9][0-9][0-9].txt\"\n",
    "fns = glob.glob(fns)\n",
    "fns.sort()\n",
    "#print(fns) "
   ]
  },
  {
   "cell_type": "code",
   "execution_count": null,
   "metadata": {},
   "outputs": [],
   "source": [
    "scale = 2 * au\n",
    "\n",
    "fig, ax =plt.subplots()\n",
    "fig.set_size_inches(10.5, 10.5, forward=True)\n",
    "fig.set_dpi(72)\n",
    "ol,   = ax.plot([0,au],[0,0],'ro',alpha=0.3) # the initial conditions\n",
    "line, = ax.plot([],[],'o')                   # plots of particles\n",
    "\n",
    "def init():\n",
    "    ax.set_xlim(-scale,scale)\n",
    "    ax.set_ylim(-scale,scale)\n",
    "    ax.set_aspect('equal')\n",
    "    ax.set_xlabel('X [code unit]')\n",
    "    ax.set_ylabel('Y [code unit]')\n",
    "    return line,\n",
    "\n",
    "def updateParticles(frame):\n",
    "    fn = fns[frame]\n",
    "    m,t,x,y,z,vx,vy,vz,ax,ay,az = np.loadtxt(fn)\n",
    "    print(\"loadtxt done\",fn)\n",
    "    line.set_data(x,y)\n",
    "    return line,\n",
    "\n",
    "ani = animation.FuncAnimation(fig, updateParticles, frames=len(fns),init_func=init, blit=True)\n",
    "ani.save('movie_'+problem_name+'.mp4',fps=10)"
   ]
  },
  {
   "cell_type": "code",
   "execution_count": null,
   "metadata": {},
   "outputs": [],
   "source": []
  }
 ],
 "metadata": {
  "kernelspec": {
   "display_name": "Python 3.9.13 ('comphyslab')",
   "language": "python",
   "name": "python3"
  },
  "language_info": {
   "codemirror_mode": {
    "name": "ipython",
    "version": 3
   },
   "file_extension": ".py",
   "mimetype": "text/x-python",
   "name": "python",
   "nbconvert_exporter": "python",
   "pygments_lexer": "ipython3",
   "version": "3.9.13"
  },
  "orig_nbformat": 4,
  "vscode": {
   "interpreter": {
    "hash": "8f0bcd1b4298e7001d18a405ab7bf6e793bc5e255b60eba5aae1bd7ca7b86ffe"
   }
  }
 },
 "nbformat": 4,
 "nbformat_minor": 2
}
