{
 "cells": [
  {
   "cell_type": "code",
   "execution_count": null,
   "metadata": {},
   "outputs": [],
   "source": [
    "import numpy as np\n",
    "import glob\n",
    "from numba import set_num_threads\n",
    "import matplotlib.pyplot as plt\n",
    "from mpl_toolkits.mplot3d import Axes3D\n",
    "import matplotlib.animation as animation\n",
    "from nbody import Particles, NbodySimulation"
   ]
  },
  {
   "cell_type": "markdown",
   "metadata": {},
   "source": [
    "# N-Body Simulations\n",
    "\n",
    "In this notebook, we will run a N particles simulation which randomly initialized with normal distribution."
   ]
  },
  {
   "cell_type": "code",
   "execution_count": null,
   "metadata": {},
   "outputs": [],
   "source": [
    "problem_name = \"random_debug\""
   ]
  },
  {
   "cell_type": "markdown",
   "metadata": {},
   "source": [
    "First, we should create a function to initialize N particles:"
   ]
  },
  {
   "cell_type": "code",
   "execution_count": null,
   "metadata": {},
   "outputs": [],
   "source": [
    "def initialRandomParticles(N):\n",
    "        \"\"\"\n",
    "        Initial particles\n",
    "\n",
    "        \"\"\"\n",
    "\n",
    "        return particles"
   ]
  },
  {
   "cell_type": "markdown",
   "metadata": {},
   "source": [
    "Once partciles are initialized, we could simply call our solver to solve it. "
   ]
  },
  {
   "cell_type": "code",
   "execution_count": null,
   "metadata": {},
   "outputs": [],
   "source": [
    "# Initial particles here.\n",
    "\n",
    "# Run the n-body simulations"
   ]
  },
  {
   "cell_type": "markdown",
   "metadata": {},
   "source": [
    "### Visualization\n",
    "\n",
    "load data"
   ]
  },
  {
   "cell_type": "code",
   "execution_count": null,
   "metadata": {},
   "outputs": [],
   "source": [
    "fns = \"data_\"+problem_name+\"/\"+problem_name+\"_[0-9][0-9][0-9][0-9][0-9].txt\"\n",
    "fns = glob.glob(fns)\n",
    "fns.sort()"
   ]
  },
  {
   "cell_type": "markdown",
   "metadata": {},
   "source": [
    "save to a movie"
   ]
  },
  {
   "cell_type": "code",
   "execution_count": null,
   "metadata": {},
   "outputs": [],
   "source": [
    "scale = 3 \n",
    "\n",
    "fig, ax =plt.subplots()\n",
    "fig.set_size_inches(10.5, 10.5, forward=True)\n",
    "fig.set_dpi(72)\n",
    "line, = ax.plot([],[],'o')\n",
    "\n",
    "def init():\n",
    "    ax.set_xlim(-1*scale,1*scale)\n",
    "    ax.set_ylim(-1*scale,1*scale)\n",
    "    ax.set_aspect('equal')\n",
    "    ax.set_xlabel('X [code unit]')\n",
    "    ax.set_ylabel('Y [code unit]')\n",
    "    return line,\n",
    "\n",
    "def updateParticles(frame):\n",
    "    fn = fns[frame]\n",
    "    m,t,x,y,z,vx,vy,vz,ax,ay,az = np.loadtxt(fn)\n",
    "    #print(\"loadtxt done\",fn)\n",
    "    line.set_data(x,y)\n",
    "    plt.title(\"Step =\"+str(frame))\n",
    "    return line,\n",
    "\n",
    "ani = animation.FuncAnimation(fig, updateParticles, frames=len(fns),init_func=init, blit=True)\n",
    "ani.save('movie_'+problem_name+'.mp4',fps=10)"
   ]
  },
  {
   "cell_type": "markdown",
   "metadata": {},
   "source": [
    "# Performance\n",
    "\n",
    "Or N-body code looks fine now. It is the time to measure the performance.\n"
   ]
  },
  {
   "cell_type": "code",
   "execution_count": null,
   "metadata": {},
   "outputs": [],
   "source": []
  },
  {
   "cell_type": "code",
   "execution_count": null,
   "metadata": {},
   "outputs": [],
   "source": [
    "%timeit sim.evolve(dt=0.01,tmax=1)"
   ]
  },
  {
   "cell_type": "markdown",
   "metadata": {},
   "source": [
    "It is quite slow!!! \n",
    "\n",
    "Beacuse the accerlation calculations requires order of NxN calculations!\n",
    "Could we improve it?\n",
    "\n",
    "First, we should avoid the two \"for\" loops in the calculation using python.\\\n",
    "Second, we have many cup cores in our machine. Could we parallelize it?"
   ]
  },
  {
   "cell_type": "markdown",
   "metadata": {},
   "source": [
    "### 1. use `numba` to speed up\n",
    "\n",
    "note. you might need to install numba by `conda install numba`.\n",
    "\n",
    "Step 0. See the jupyer notebook `2_1_numba_tutorial.ipynb`.\n",
    "\n",
    "Step 1. Seperate the function to calculate the accerlation in a pure function that only counts math calculations.\n",
    "\n",
    "Step 2. Use the `numba`'s `@jit` micro. \n",
    "\n",
    "Results: In my experiments. I got roughly x140 speed up with the @jit(nopython=True). \n",
    "\n",
    "Step 3. Try using `@njit` and `prange` in numba."
   ]
  },
  {
   "cell_type": "code",
   "execution_count": null,
   "metadata": {},
   "outputs": [],
   "source": [
    "%timeit sim.evolve(dt=0.02,tmax=1)"
   ]
  },
  {
   "cell_type": "markdown",
   "metadata": {},
   "source": [
    "### Kuo-Chuan's measurements.\n",
    "\n",
    "For 1000 particles and running for 50 steps\n",
    "\n",
    "without `numba` (estimated from 5 step calculations)\\\n",
    "`2min 10s ± 2.47 s per loop (mean ± std. dev. of 7 runs, 1 loop each)`.\\\n",
    "It costs roughly, `1300 s` for 50 steps. \n",
    "\n",
    "with `numba`'s `@jit`.\\\n",
    "`7.98 s ± 67.8 ms per loop (mean ± std. dev. of 7 runs, 1 loop each)`\n",
    "( x162 speedup)\n",
    "\n",
    "with `numba`'s `@njit(parallel=True)` and `prange`\n",
    "\n",
    "cores\n",
    "```\n",
    "1   8.06 s ± 122 ms per loop (mean ± std. dev. of 7 runs, 1 loop each)\n",
    "2   5.9 s ± 54 ms per loop (mean ± std. dev. of 7 runs, 1 loop each)\n",
    "4   3.84 s ± 72.2 ms per loop (mean ± std. dev. of 7 runs, 1 loop each)\n",
    "8   2.34 s ± 32.3 ms per loop (mean ± std. dev. of 7 runs, 1 loop each)\n",
    "12  1.79 s ± 34.4 ms per loop (mean ± std. dev. of 7 runs, 1 loop each)\n",
    "16  1.66 s ± 72.6 ms per loop (mean ± std. dev. of 7 runs, 1 loop each)\n",
    "```"
   ]
  },
  {
   "cell_type": "code",
   "execution_count": null,
   "metadata": {},
   "outputs": [],
   "source": []
  }
 ],
 "metadata": {
  "kernelspec": {
   "display_name": "Python 3.10.8 ('comphyslab')",
   "language": "python",
   "name": "python3"
  },
  "language_info": {
   "codemirror_mode": {
    "name": "ipython",
    "version": 3
   },
   "file_extension": ".py",
   "mimetype": "text/x-python",
   "name": "python",
   "nbconvert_exporter": "python",
   "pygments_lexer": "ipython3",
   "version": "3.10.8"
  },
  "orig_nbformat": 4,
  "vscode": {
   "interpreter": {
    "hash": "ae0c796e017b4753d6b75f87586457b3ddde062688ecea1eb8843520cbf2ae9e"
   }
  }
 },
 "nbformat": 4,
 "nbformat_minor": 2
}
